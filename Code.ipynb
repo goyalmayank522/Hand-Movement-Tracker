{
 "cells": [
  {
   "cell_type": "code",
   "execution_count": 25,
   "metadata": {},
   "outputs": [],
   "source": [
    "import numpy as np\n",
    "import cv2\n",
    "from collections import deque"
   ]
  },
  {
   "cell_type": "code",
   "execution_count": 26,
   "metadata": {},
   "outputs": [],
   "source": [
    "cap=cv2.VideoCapture(0)"
   ]
  },
  {
   "cell_type": "code",
   "execution_count": 27,
   "metadata": {},
   "outputs": [],
   "source": [
    "pts=deque(maxlen=64)\n",
    "\n",
    "Lower_blue = np.array([110,50,50])\n",
    "Upper_blue = np.array([130,255,255])\n",
    "\n",
    "while True:\n",
    "    ret,frame=cap.read()  # Read and returns the video frame\n",
    "    hsv=cv2.cvtColor(frame,cv2.COLOR_BGR2HSV)  # Converting frame color from bgr to hsv  \n",
    "    kernal=np.ones((5,5),np.uint8) # Declaring Kernal of (5,5) size\n",
    "    mask=cv2.inRange(hsv,Lower_blue,Upper_blue) # Taking only blue color from the frame (by thresholding)\n",
    "    mask=cv2.erode(mask,kernal,iterations=2) # Eroding boundaries of foreground object\n",
    "    mask=cv2.morphologyEx(mask,cv2.MORPH_OPEN,kernal) # Removing noise\n",
    "    #Erosion removes white noises,but it also shrinks our object so need to dilate it.\n",
    "    mask=cv2.dilate(mask,kernal,iterations=2)\n",
    "    res=cv2.bitwise_and(frame,frame,mask=mask) # Merging two images\n",
    "    contours,heirarchy=cv2.findContours(mask.copy(),cv2.RETR_EXTERNAL,cv2.CHAIN_APPROX_SIMPLE) # Detecting contours\n",
    "    center=None\n",
    "    \n",
    "    if len(contours)>0: \n",
    "        max_contour=max(contours,key=cv2.contourArea) # Taking contour having max area\n",
    "        ((x,y),radius)=cv2.minEnclosingCircle(max_contour) # Finding circle which covers object with minimum area\n",
    "        centroid=cv2.moments(max_contour)\n",
    "        center=(int(centroid[\"m10\"]/centroid[\"m00\"]),int(centroid[\"m01\"]/centroid[\"m00\"]))  # Finding the center of the contour\n",
    "        \n",
    "        \n",
    "        if radius>5:\n",
    "            cv2.circle(frame,(int(x),int(y)),int(radius),(255,0,0),2) # Drawing circle (blue color) on (x,y) points of thickness 2\n",
    "            cv2.circle(frame,center,10,(0,0,255),-1) # Drawing circle (red color) on 'center' of negative thickness \n",
    "             \n",
    "    pts.appendleft(center) # Left appending center to the deque 'pts'\n",
    "    for i in range(1,len(pts)):\n",
    "        if pts[i-1] is None or pts[i] is None:\n",
    "            continue\n",
    "        thick=int(np.sqrt(len(pts)/float(i+1))*2.5)\n",
    "        cv2.line(frame,pts[i-1],pts[i],(0,255,0),thick) # Drawing green colored line between points 'i-1' to 'i'\n",
    "        \n",
    "    \n",
    "    # Showing the images\n",
    "    cv2.imshow('frame',frame)\n",
    "    cv2.imshow('mask',mask)\n",
    "    cv2.imshow('res',res)\n",
    "    \n",
    "    k=cv2.waitKey(1) & 0xFF\n",
    "    if k==27:  # Breaking the loop when ESC pressed\n",
    "        break\n",
    "    \n",
    "    \n",
    "# Cleaning camera and closing open windows   \n",
    "cap.release()\n",
    "cv2.destroyAllWindows()\n"
   ]
  },
  {
   "cell_type": "code",
   "execution_count": null,
   "metadata": {},
   "outputs": [],
   "source": []
  }
 ],
 "metadata": {
  "kernelspec": {
   "display_name": "Python 3",
   "language": "python",
   "name": "python3"
  },
  "language_info": {
   "codemirror_mode": {
    "name": "ipython",
    "version": 3
   },
   "file_extension": ".py",
   "mimetype": "text/x-python",
   "name": "python",
   "nbconvert_exporter": "python",
   "pygments_lexer": "ipython3",
   "version": "3.7.3"
  }
 },
 "nbformat": 4,
 "nbformat_minor": 2
}
